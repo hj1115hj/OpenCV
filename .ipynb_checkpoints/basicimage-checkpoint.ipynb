{
 "cells": [
  {
   "cell_type": "code",
   "execution_count": null,
   "metadata": {},
   "outputs": [],
   "source": [
    "import numpy as np\n",
    "import matplotlib.pyplot as plt\n",
    "from PIL import Image\n",
    "%matplotlib inline # 출력할 결과를 안쪽에 표시\n"
   ]
  },
  {
   "cell_type": "code",
   "execution_count": null,
   "metadata": {},
   "outputs": [],
   "source": [
    "import numpy as np\n",
    "import matplotlib as plt\n",
    "a = np.array([\n",
    "    \n",
    "    [0,0,0,0],\n",
    "    [127,127,127,127],\n",
    "    [127,127,127,127],\n",
    "    [255,255,255,255],\n",
    "    \n",
    "    \n",
    "],dtype = 'uint8') # unsinged integer\n",
    "plt.imshow(a, cmp='gray')  # color map  gray 컬러로 만들기"
   ]
  }
 ],
 "metadata": {
  "kernelspec": {
   "display_name": "Python 3",
   "language": "python",
   "name": "python3"
  },
  "language_info": {
   "codemirror_mode": {
    "name": "ipython",
    "version": 3
   },
   "file_extension": ".py",
   "mimetype": "text/x-python",
   "name": "python",
   "nbconvert_exporter": "python",
   "pygments_lexer": "ipython3",
   "version": "3.7.4"
  }
 },
 "nbformat": 4,
 "nbformat_minor": 2
}
